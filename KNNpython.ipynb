{
 "cells": [
  {
   "cell_type": "markdown",
   "metadata": {
    "id": "Z7-ukwqvXEHm"
   },
   "source": [
    "## K-Nearest Neighbors Analysis\n",
    "Using financial ticker for JPMorgan to create the trading strategy, using KNN classifier.\n",
    "\n"
   ]
  },
  {
   "cell_type": "markdown",
   "metadata": {},
   "source": [
    "###  Extracted data for the ticker from Yahoo Finance. Made brief exploratory analysis of obtained data."
   ]
  },
  {
   "cell_type": "code",
   "execution_count": 1,
   "metadata": {
    "id": "N42OVNAAXEHm",
    "scrolled": true
   },
   "outputs": [
    {
     "name": "stdout",
     "output_type": "stream",
     "text": [
      "Requirement already satisfied: fix-yahoo-finance==0.1.30 in /opt/anaconda3/lib/python3.8/site-packages (0.1.30)\n",
      "Requirement already satisfied: requests in /opt/anaconda3/lib/python3.8/site-packages (from fix-yahoo-finance==0.1.30) (2.24.0)\n",
      "Requirement already satisfied: multitasking in /opt/anaconda3/lib/python3.8/site-packages (from fix-yahoo-finance==0.1.30) (0.0.9)\n",
      "Requirement already satisfied: numpy in /opt/anaconda3/lib/python3.8/site-packages (from fix-yahoo-finance==0.1.30) (1.18.5)\n",
      "Requirement already satisfied: pandas in /opt/anaconda3/lib/python3.8/site-packages (from fix-yahoo-finance==0.1.30) (1.4.3)\n",
      "Requirement already satisfied: chardet<4,>=3.0.2 in /opt/anaconda3/lib/python3.8/site-packages (from requests->fix-yahoo-finance==0.1.30) (3.0.4)\n",
      "Requirement already satisfied: certifi>=2017.4.17 in /opt/anaconda3/lib/python3.8/site-packages (from requests->fix-yahoo-finance==0.1.30) (2020.6.20)\n",
      "Requirement already satisfied: idna<3,>=2.5 in /opt/anaconda3/lib/python3.8/site-packages (from requests->fix-yahoo-finance==0.1.30) (2.10)\n",
      "Requirement already satisfied: urllib3!=1.25.0,!=1.25.1,<1.26,>=1.21.1 in /opt/anaconda3/lib/python3.8/site-packages (from requests->fix-yahoo-finance==0.1.30) (1.25.9)\n",
      "Requirement already satisfied: python-dateutil>=2.8.1 in /opt/anaconda3/lib/python3.8/site-packages (from pandas->fix-yahoo-finance==0.1.30) (2.8.1)\n",
      "Requirement already satisfied: pytz>=2020.1 in /opt/anaconda3/lib/python3.8/site-packages (from pandas->fix-yahoo-finance==0.1.30) (2020.1)\n",
      "Requirement already satisfied: six>=1.5 in /opt/anaconda3/lib/python3.8/site-packages (from python-dateutil>=2.8.1->pandas->fix-yahoo-finance==0.1.30) (1.15.0)\n"
     ]
    }
   ],
   "source": [
    "! pip install fix-yahoo-finance==0.1.30\n",
    "import fix_yahoo_finance as yf"
   ]
  },
  {
   "cell_type": "code",
   "execution_count": 39,
   "metadata": {},
   "outputs": [],
   "source": [
    "ticker = 'JPM' \n",
    "JP_Morgan_df = yf.Ticker(ticker)"
   ]
  },
  {
   "cell_type": "code",
   "execution_count": 40,
   "metadata": {},
   "outputs": [],
   "source": [
    "# Upload data for one ticker (for the recent year) from Yahoo Finance.\n",
    "JP_Morgan_df = JP_Morgan_df.history(period=\"1y\", interval='1d')\n",
    "JP_Morgan_df = JP_Morgan_df.dropna()"
   ]
  },
  {
   "cell_type": "code",
   "execution_count": 41,
   "metadata": {},
   "outputs": [
    {
     "data": {
      "text/html": [
       "<div>\n",
       "<style scoped>\n",
       "    .dataframe tbody tr th:only-of-type {\n",
       "        vertical-align: middle;\n",
       "    }\n",
       "\n",
       "    .dataframe tbody tr th {\n",
       "        vertical-align: top;\n",
       "    }\n",
       "\n",
       "    .dataframe thead th {\n",
       "        text-align: right;\n",
       "    }\n",
       "</style>\n",
       "<table border=\"1\" class=\"dataframe\">\n",
       "  <thead>\n",
       "    <tr style=\"text-align: right;\">\n",
       "      <th></th>\n",
       "      <th>Open</th>\n",
       "      <th>High</th>\n",
       "      <th>Low</th>\n",
       "      <th>Close</th>\n",
       "      <th>Volume</th>\n",
       "      <th>Dividends</th>\n",
       "      <th>Stock Splits</th>\n",
       "    </tr>\n",
       "    <tr>\n",
       "      <th>Date</th>\n",
       "      <th></th>\n",
       "      <th></th>\n",
       "      <th></th>\n",
       "      <th></th>\n",
       "      <th></th>\n",
       "      <th></th>\n",
       "      <th></th>\n",
       "    </tr>\n",
       "  </thead>\n",
       "  <tbody>\n",
       "    <tr>\n",
       "      <th>2019-12-12</th>\n",
       "      <td>129.78</td>\n",
       "      <td>133.62</td>\n",
       "      <td>129.51</td>\n",
       "      <td>133.18</td>\n",
       "      <td>13717400</td>\n",
       "      <td>0.0</td>\n",
       "      <td>0</td>\n",
       "    </tr>\n",
       "    <tr>\n",
       "      <th>2019-12-13</th>\n",
       "      <td>133.12</td>\n",
       "      <td>133.97</td>\n",
       "      <td>131.45</td>\n",
       "      <td>132.02</td>\n",
       "      <td>10592100</td>\n",
       "      <td>0.0</td>\n",
       "      <td>0</td>\n",
       "    </tr>\n",
       "    <tr>\n",
       "      <th>2019-12-16</th>\n",
       "      <td>133.53</td>\n",
       "      <td>133.97</td>\n",
       "      <td>132.51</td>\n",
       "      <td>132.53</td>\n",
       "      <td>11372000</td>\n",
       "      <td>0.0</td>\n",
       "      <td>0</td>\n",
       "    </tr>\n",
       "    <tr>\n",
       "      <th>2019-12-17</th>\n",
       "      <td>132.90</td>\n",
       "      <td>133.81</td>\n",
       "      <td>132.42</td>\n",
       "      <td>133.34</td>\n",
       "      <td>11546800</td>\n",
       "      <td>0.0</td>\n",
       "      <td>0</td>\n",
       "    </tr>\n",
       "    <tr>\n",
       "      <th>2019-12-18</th>\n",
       "      <td>133.31</td>\n",
       "      <td>134.15</td>\n",
       "      <td>132.89</td>\n",
       "      <td>133.20</td>\n",
       "      <td>10381500</td>\n",
       "      <td>0.0</td>\n",
       "      <td>0</td>\n",
       "    </tr>\n",
       "  </tbody>\n",
       "</table>\n",
       "</div>"
      ],
      "text/plain": [
       "              Open    High     Low   Close    Volume  Dividends  Stock Splits\n",
       "Date                                                                         \n",
       "2019-12-12  129.78  133.62  129.51  133.18  13717400        0.0             0\n",
       "2019-12-13  133.12  133.97  131.45  132.02  10592100        0.0             0\n",
       "2019-12-16  133.53  133.97  132.51  132.53  11372000        0.0             0\n",
       "2019-12-17  132.90  133.81  132.42  133.34  11546800        0.0             0\n",
       "2019-12-18  133.31  134.15  132.89  133.20  10381500        0.0             0"
      ]
     },
     "execution_count": 41,
     "metadata": {},
     "output_type": "execute_result"
    }
   ],
   "source": [
    "JP_Morgan_df.head()"
   ]
  },
  {
   "cell_type": "code",
   "execution_count": 42,
   "metadata": {},
   "outputs": [
    {
     "data": {
      "text/html": [
       "<div>\n",
       "<style scoped>\n",
       "    .dataframe tbody tr th:only-of-type {\n",
       "        vertical-align: middle;\n",
       "    }\n",
       "\n",
       "    .dataframe tbody tr th {\n",
       "        vertical-align: top;\n",
       "    }\n",
       "\n",
       "    .dataframe thead th {\n",
       "        text-align: right;\n",
       "    }\n",
       "</style>\n",
       "<table border=\"1\" class=\"dataframe\">\n",
       "  <thead>\n",
       "    <tr style=\"text-align: right;\">\n",
       "      <th></th>\n",
       "      <th>Open</th>\n",
       "      <th>High</th>\n",
       "      <th>Low</th>\n",
       "      <th>Close</th>\n",
       "      <th>Volume</th>\n",
       "      <th>Dividends</th>\n",
       "      <th>Stock Splits</th>\n",
       "    </tr>\n",
       "    <tr>\n",
       "      <th>Date</th>\n",
       "      <th></th>\n",
       "      <th></th>\n",
       "      <th></th>\n",
       "      <th></th>\n",
       "      <th></th>\n",
       "      <th></th>\n",
       "      <th></th>\n",
       "    </tr>\n",
       "  </thead>\n",
       "  <tbody>\n",
       "    <tr>\n",
       "      <th>2020-12-07</th>\n",
       "      <td>121.15</td>\n",
       "      <td>122.17</td>\n",
       "      <td>120.21</td>\n",
       "      <td>121.88</td>\n",
       "      <td>9724300</td>\n",
       "      <td>0.0</td>\n",
       "      <td>0</td>\n",
       "    </tr>\n",
       "    <tr>\n",
       "      <th>2020-12-08</th>\n",
       "      <td>121.04</td>\n",
       "      <td>122.33</td>\n",
       "      <td>120.76</td>\n",
       "      <td>122.00</td>\n",
       "      <td>9592100</td>\n",
       "      <td>0.0</td>\n",
       "      <td>0</td>\n",
       "    </tr>\n",
       "    <tr>\n",
       "      <th>2020-12-09</th>\n",
       "      <td>123.17</td>\n",
       "      <td>123.30</td>\n",
       "      <td>120.44</td>\n",
       "      <td>121.05</td>\n",
       "      <td>13073900</td>\n",
       "      <td>0.0</td>\n",
       "      <td>0</td>\n",
       "    </tr>\n",
       "    <tr>\n",
       "      <th>2020-12-10</th>\n",
       "      <td>119.99</td>\n",
       "      <td>120.78</td>\n",
       "      <td>119.56</td>\n",
       "      <td>120.27</td>\n",
       "      <td>13668400</td>\n",
       "      <td>0.0</td>\n",
       "      <td>0</td>\n",
       "    </tr>\n",
       "    <tr>\n",
       "      <th>2020-12-11</th>\n",
       "      <td>118.94</td>\n",
       "      <td>120.02</td>\n",
       "      <td>118.37</td>\n",
       "      <td>119.56</td>\n",
       "      <td>9981200</td>\n",
       "      <td>0.0</td>\n",
       "      <td>0</td>\n",
       "    </tr>\n",
       "  </tbody>\n",
       "</table>\n",
       "</div>"
      ],
      "text/plain": [
       "              Open    High     Low   Close    Volume  Dividends  Stock Splits\n",
       "Date                                                                         \n",
       "2020-12-07  121.15  122.17  120.21  121.88   9724300        0.0             0\n",
       "2020-12-08  121.04  122.33  120.76  122.00   9592100        0.0             0\n",
       "2020-12-09  123.17  123.30  120.44  121.05  13073900        0.0             0\n",
       "2020-12-10  119.99  120.78  119.56  120.27  13668400        0.0             0\n",
       "2020-12-11  118.94  120.02  118.37  119.56   9981200        0.0             0"
      ]
     },
     "execution_count": 42,
     "metadata": {},
     "output_type": "execute_result"
    }
   ],
   "source": [
    "JP_Morgan_df.tail()"
   ]
  },
  {
   "cell_type": "code",
   "execution_count": 43,
   "metadata": {},
   "outputs": [
    {
     "data": {
      "text/plain": [
       "Open            0\n",
       "High            0\n",
       "Low             0\n",
       "Close           0\n",
       "Volume          0\n",
       "Dividends       0\n",
       "Stock Splits    0\n",
       "dtype: int64"
      ]
     },
     "execution_count": 43,
     "metadata": {},
     "output_type": "execute_result"
    }
   ],
   "source": [
    "JP_Morgan_df.isnull().sum()"
   ]
  },
  {
   "cell_type": "code",
   "execution_count": 44,
   "metadata": {},
   "outputs": [
    {
     "data": {
      "text/plain": [
       "Open            0\n",
       "High            0\n",
       "Low             0\n",
       "Close           0\n",
       "Volume          0\n",
       "Dividends       0\n",
       "Stock Splits    0\n",
       "dtype: int64"
      ]
     },
     "execution_count": 44,
     "metadata": {},
     "output_type": "execute_result"
    }
   ],
   "source": [
    "JP_Morgan_df.isna().sum()"
   ]
  },
  {
   "cell_type": "code",
   "execution_count": 45,
   "metadata": {},
   "outputs": [
    {
     "data": {
      "text/html": [
       "<div>\n",
       "<style scoped>\n",
       "    .dataframe tbody tr th:only-of-type {\n",
       "        vertical-align: middle;\n",
       "    }\n",
       "\n",
       "    .dataframe tbody tr th {\n",
       "        vertical-align: top;\n",
       "    }\n",
       "\n",
       "    .dataframe thead th {\n",
       "        text-align: right;\n",
       "    }\n",
       "</style>\n",
       "<table border=\"1\" class=\"dataframe\">\n",
       "  <thead>\n",
       "    <tr style=\"text-align: right;\">\n",
       "      <th></th>\n",
       "      <th>Open</th>\n",
       "      <th>High</th>\n",
       "      <th>Low</th>\n",
       "      <th>Close</th>\n",
       "      <th>Volume</th>\n",
       "      <th>Dividends</th>\n",
       "      <th>Stock Splits</th>\n",
       "    </tr>\n",
       "  </thead>\n",
       "  <tbody>\n",
       "    <tr>\n",
       "      <th>count</th>\n",
       "      <td>253.000000</td>\n",
       "      <td>253.000000</td>\n",
       "      <td>253.000000</td>\n",
       "      <td>253.000000</td>\n",
       "      <td>2.530000e+02</td>\n",
       "      <td>253.000000</td>\n",
       "      <td>253.0</td>\n",
       "    </tr>\n",
       "    <tr>\n",
       "      <th>mean</th>\n",
       "      <td>105.570316</td>\n",
       "      <td>107.029526</td>\n",
       "      <td>104.081542</td>\n",
       "      <td>105.499605</td>\n",
       "      <td>1.911498e+07</td>\n",
       "      <td>0.014229</td>\n",
       "      <td>0.0</td>\n",
       "    </tr>\n",
       "    <tr>\n",
       "      <th>std</th>\n",
       "      <td>16.077243</td>\n",
       "      <td>15.734283</td>\n",
       "      <td>16.395234</td>\n",
       "      <td>16.118352</td>\n",
       "      <td>9.332186e+06</td>\n",
       "      <td>0.112489</td>\n",
       "      <td>0.0</td>\n",
       "    </tr>\n",
       "    <tr>\n",
       "      <th>min</th>\n",
       "      <td>79.210000</td>\n",
       "      <td>81.330000</td>\n",
       "      <td>74.690000</td>\n",
       "      <td>76.750000</td>\n",
       "      <td>3.324300e+06</td>\n",
       "      <td>0.000000</td>\n",
       "      <td>0.0</td>\n",
       "    </tr>\n",
       "    <tr>\n",
       "      <th>25%</th>\n",
       "      <td>94.190000</td>\n",
       "      <td>95.950000</td>\n",
       "      <td>92.540000</td>\n",
       "      <td>94.430000</td>\n",
       "      <td>1.274350e+07</td>\n",
       "      <td>0.000000</td>\n",
       "      <td>0.0</td>\n",
       "    </tr>\n",
       "    <tr>\n",
       "      <th>50%</th>\n",
       "      <td>99.390000</td>\n",
       "      <td>100.990000</td>\n",
       "      <td>98.130000</td>\n",
       "      <td>99.330000</td>\n",
       "      <td>1.629340e+07</td>\n",
       "      <td>0.000000</td>\n",
       "      <td>0.0</td>\n",
       "    </tr>\n",
       "    <tr>\n",
       "      <th>75%</th>\n",
       "      <td>119.360000</td>\n",
       "      <td>120.720000</td>\n",
       "      <td>117.800000</td>\n",
       "      <td>118.010000</td>\n",
       "      <td>2.368300e+07</td>\n",
       "      <td>0.000000</td>\n",
       "      <td>0.0</td>\n",
       "    </tr>\n",
       "    <tr>\n",
       "      <th>max</th>\n",
       "      <td>135.000000</td>\n",
       "      <td>136.700000</td>\n",
       "      <td>134.380000</td>\n",
       "      <td>136.150000</td>\n",
       "      <td>4.972520e+07</td>\n",
       "      <td>0.900000</td>\n",
       "      <td>0.0</td>\n",
       "    </tr>\n",
       "  </tbody>\n",
       "</table>\n",
       "</div>"
      ],
      "text/plain": [
       "             Open        High         Low       Close        Volume  \\\n",
       "count  253.000000  253.000000  253.000000  253.000000  2.530000e+02   \n",
       "mean   105.570316  107.029526  104.081542  105.499605  1.911498e+07   \n",
       "std     16.077243   15.734283   16.395234   16.118352  9.332186e+06   \n",
       "min     79.210000   81.330000   74.690000   76.750000  3.324300e+06   \n",
       "25%     94.190000   95.950000   92.540000   94.430000  1.274350e+07   \n",
       "50%     99.390000  100.990000   98.130000   99.330000  1.629340e+07   \n",
       "75%    119.360000  120.720000  117.800000  118.010000  2.368300e+07   \n",
       "max    135.000000  136.700000  134.380000  136.150000  4.972520e+07   \n",
       "\n",
       "        Dividends  Stock Splits  \n",
       "count  253.000000         253.0  \n",
       "mean     0.014229           0.0  \n",
       "std      0.112489           0.0  \n",
       "min      0.000000           0.0  \n",
       "25%      0.000000           0.0  \n",
       "50%      0.000000           0.0  \n",
       "75%      0.000000           0.0  \n",
       "max      0.900000           0.0  "
      ]
     },
     "execution_count": 45,
     "metadata": {},
     "output_type": "execute_result"
    }
   ],
   "source": [
    "JP_Morgan_df.describe()"
   ]
  },
  {
   "cell_type": "code",
   "execution_count": 46,
   "metadata": {},
   "outputs": [
    {
     "data": {
      "text/html": [
       "<div>\n",
       "<style scoped>\n",
       "    .dataframe tbody tr th:only-of-type {\n",
       "        vertical-align: middle;\n",
       "    }\n",
       "\n",
       "    .dataframe tbody tr th {\n",
       "        vertical-align: top;\n",
       "    }\n",
       "\n",
       "    .dataframe thead th {\n",
       "        text-align: right;\n",
       "    }\n",
       "</style>\n",
       "<table border=\"1\" class=\"dataframe\">\n",
       "  <thead>\n",
       "    <tr style=\"text-align: right;\">\n",
       "      <th></th>\n",
       "      <th>Open</th>\n",
       "      <th>High</th>\n",
       "      <th>Low</th>\n",
       "      <th>Close</th>\n",
       "      <th>Volume</th>\n",
       "      <th>Dividends</th>\n",
       "      <th>Stock Splits</th>\n",
       "    </tr>\n",
       "    <tr>\n",
       "      <th>Date</th>\n",
       "      <th></th>\n",
       "      <th></th>\n",
       "      <th></th>\n",
       "      <th></th>\n",
       "      <th></th>\n",
       "      <th></th>\n",
       "      <th></th>\n",
       "    </tr>\n",
       "  </thead>\n",
       "  <tbody>\n",
       "    <tr>\n",
       "      <th>2020-01-03</th>\n",
       "      <td>133.53</td>\n",
       "      <td>135.21</td>\n",
       "      <td>133.13</td>\n",
       "      <td>134.35</td>\n",
       "      <td>10386800</td>\n",
       "      <td>0.9</td>\n",
       "      <td>0</td>\n",
       "    </tr>\n",
       "    <tr>\n",
       "      <th>2020-04-03</th>\n",
       "      <td>84.39</td>\n",
       "      <td>85.84</td>\n",
       "      <td>81.22</td>\n",
       "      <td>82.47</td>\n",
       "      <td>21199400</td>\n",
       "      <td>0.9</td>\n",
       "      <td>0</td>\n",
       "    </tr>\n",
       "    <tr>\n",
       "      <th>2020-07-02</th>\n",
       "      <td>93.87</td>\n",
       "      <td>94.09</td>\n",
       "      <td>91.08</td>\n",
       "      <td>91.81</td>\n",
       "      <td>27845600</td>\n",
       "      <td>0.9</td>\n",
       "      <td>0</td>\n",
       "    </tr>\n",
       "    <tr>\n",
       "      <th>2020-10-05</th>\n",
       "      <td>98.32</td>\n",
       "      <td>99.25</td>\n",
       "      <td>97.53</td>\n",
       "      <td>99.04</td>\n",
       "      <td>13871900</td>\n",
       "      <td>0.9</td>\n",
       "      <td>0</td>\n",
       "    </tr>\n",
       "  </tbody>\n",
       "</table>\n",
       "</div>"
      ],
      "text/plain": [
       "              Open    High     Low   Close    Volume  Dividends  Stock Splits\n",
       "Date                                                                         \n",
       "2020-01-03  133.53  135.21  133.13  134.35  10386800        0.9             0\n",
       "2020-04-03   84.39   85.84   81.22   82.47  21199400        0.9             0\n",
       "2020-07-02   93.87   94.09   91.08   91.81  27845600        0.9             0\n",
       "2020-10-05   98.32   99.25   97.53   99.04  13871900        0.9             0"
      ]
     },
     "execution_count": 46,
     "metadata": {},
     "output_type": "execute_result"
    }
   ],
   "source": [
    "JP_Morgan_df[JP_Morgan_df.Dividends != 0]"
   ]
  },
  {
   "cell_type": "markdown",
   "metadata": {},
   "source": [
    "we can see that the company pays dividends quarterly which is natural for american companies. Moreover, during this year the amount the dividents didn't rise"
   ]
  },
  {
   "cell_type": "code",
   "execution_count": 47,
   "metadata": {},
   "outputs": [
    {
     "data": {
      "image/png": "[encoded data removed]",
      "text/plain": [
       "<Figure size 432x288 with 1 Axes>"
      ]
     },
     "metadata": {
      "needs_background": "light"
     },
     "output_type": "display_data"
    }
   ],
   "source": [
    "plt.plot(JP_Morgan_df.Close, label='Close')\n",
    "plt.legend()\n",
    "plt.show()"
   ]
  },
  {
   "cell_type": "code",
   "execution_count": 48,
   "metadata": {
    "scrolled": true
   },
   "outputs": [
    {
     "data": {
      "image/png": "[encoded data removed]",
      "text/plain": [
       "<Figure size 432x288 with 1 Axes>"
      ]
     },
     "metadata": {
      "needs_background": "light"
     },
     "output_type": "display_data"
    }
   ],
   "source": [
    "plt.plot(JP_Morgan_df.Volume, label='Volume')\n",
    "plt.legend()\n",
    "plt.show()"
   ]
  },
  {
   "cell_type": "markdown",
   "metadata": {},
   "source": [
    "The volumne flucutates significantly during the year. But the \"March peak\" is clearly visible"
   ]
  },
  {
   "cell_type": "markdown",
   "metadata": {},
   "source": [
    "###  Applying KNN classifier to obtained data"
   ]
  },
  {
   "cell_type": "code",
   "execution_count": 49,
   "metadata": {},
   "outputs": [],
   "source": [
    "# Target variable\n",
    "classification_label = np.where(JP_Morgan_df.Close.shift(-1) > JP_Morgan_df.Close, 1, -1)\n",
    "classification_df = JP_Morgan_df.drop(['Close'], axis=1)"
   ]
  },
  {
   "cell_type": "code",
   "execution_count": 50,
   "metadata": {},
   "outputs": [],
   "source": [
    "# Splitting the dataset according to the timeline\n",
    "split_percentage = 0.7\n",
    "split = int(split_percentage*len(JP_Morgan_df))\n",
    "\n",
    "classification_df_train = classification_df[:split]\n",
    "classification_label_train = classification_label[:split]\n",
    "\n",
    "classification_df_test = classification_df[split:]\n",
    "classification_label_test = classification_label[split:]"
   ]
  },
  {
   "cell_type": "code",
   "execution_count": 51,
   "metadata": {},
   "outputs": [
    {
     "name": "stdout",
     "output_type": "stream",
     "text": [
      "classification_df_train rows 177\n",
      "classification_label_train rows 177\n"
     ]
    }
   ],
   "source": [
    "print('classification_df_train rows', classification_df_train.shape[0])\n",
    "print(\"classification_label_train rows\", classification_label_train.shape[0])"
   ]
  },
  {
   "cell_type": "code",
   "execution_count": 52,
   "metadata": {},
   "outputs": [
    {
     "name": "stdout",
     "output_type": "stream",
     "text": [
      "classification_df_test rows 76\n",
      "classification_label_test rows 76\n"
     ]
    }
   ],
   "source": [
    "print('classification_df_test rows', classification_df_test.shape[0])\n",
    "print(\"classification_label_test rows\", classification_label_test.shape[0])"
   ]
  },
  {
   "cell_type": "code",
   "execution_count": 53,
   "metadata": {
    "scrolled": true
   },
   "outputs": [
    {
     "data": {
      "text/plain": [
       "KNeighborsClassifier(algorithm='auto', leaf_size=30, metric='minkowski',\n",
       "                     metric_params=None, n_jobs=None, n_neighbors=15, p=2,\n",
       "                     weights='uniform')"
      ]
     },
     "execution_count": 53,
     "metadata": {},
     "output_type": "execute_result"
    }
   ],
   "source": [
    "from sklearn.neighbors import KNeighborsClassifier\n",
    "\n",
    "# Instantiate KNN learning model(k=15)\n",
    "knn_clf = KNeighborsClassifier(n_neighbors=15)\n",
    "\n",
    "# fit the model\n",
    "knn_clf.fit(classification_df_train, classification_label_train)"
   ]
  },
  {
   "cell_type": "code",
   "execution_count": 54,
   "metadata": {
    "scrolled": true
   },
   "outputs": [
    {
     "name": "stdout",
     "output_type": "stream",
     "text": [
      "Train_data Accuracy: 0.60\n",
      "Test_data Accuracy: 0.61\n"
     ]
    }
   ],
   "source": [
    "from sklearn.metrics import accuracy_score\n",
    "\n",
    "# Accuracy Score\n",
    "accuracy_train = accuracy_score(classification_label_train, knn_clf.predict(classification_df_train))\n",
    "accuracy_test = accuracy_score(classification_label_test, knn_clf.predict(classification_df_test))\n",
    "\n",
    "print ('Train_data Accuracy: %.2f' %accuracy_train)\n",
    "print ('Test_data Accuracy: %.2f' %accuracy_test)"
   ]
  },
  {
   "cell_type": "markdown",
   "metadata": {},
   "source": [
    "The accuracy scores look great"
   ]
  },
  {
   "cell_type": "code",
   "execution_count": 55,
   "metadata": {
    "jupyter": {
     "source_hidden": true
    }
   },
   "outputs": [
    {
     "data": {
      "image/png": "[encoded data removed]",
      "text/plain": [
       "<Figure size 720x360 with 1 Axes>"
      ]
     },
     "metadata": {
      "needs_background": "light"
     },
     "output_type": "display_data"
    }
   ],
   "source": [
    "# Predicted Signal\n",
    "JP_Morgan_df['Predicted_Signal'] = knn_clf.predict(classification_df)\n",
    "\n",
    "JP_Morgan_df['ticker_returns'] = np.log(JP_Morgan_df.Close / JP_Morgan_df.Close.shift(1))\n",
    "cumulative_ticker_returns = JP_Morgan_df[split:]['ticker_returns'].cumsum() * 100\n",
    "\n",
    "JP_Morgan_df['strategy_returns'] = JP_Morgan_df['ticker_returns'] * JP_Morgan_df['Predicted_Signal'].shift(1)\n",
    "cumulative_strategy_returns = JP_Morgan_df[split:]['strategy_returns'].cumsum() * 100\n",
    "\n",
    "plt.figure(figsize=(10, 5))\n",
    "plt.plot(cumulative_ticker_returns, color='r', label='cumulative_ticker_returns')\n",
    "plt.plot(cumulative_strategy_returns, color='g', label='cumulative_strategy_returns')\n",
    "plt.legend()\n",
    "plt.show()"
   ]
  },
  {
   "cell_type": "markdown",
   "metadata": {},
   "source": [
    "On the line graph above we see that if you buy a JPMorgan Chase & Co. shares in September 2020 and keep them till nowadays, you will have about 18% of cumularive returns. But if you follow the strategy trained with KNN, you may obtain more than 30% cumulative return"
   ]
  },
  {
   "cell_type": "markdown",
   "metadata": {
    "id": "48c7HcszXEHn"
   },
   "source": [
    "## Decision Trees Analysis\n",
    "\n"
   ]
  },
  {
   "cell_type": "markdown",
   "metadata": {},
   "source": [
    "### Uploaded data for one ticker from Quandl. Made brief exploratory analysis of obtained data."
   ]
  },
  {
   "cell_type": "code",
   "execution_count": 2,
   "metadata": {
    "scrolled": true
   },
   "outputs": [
    {
     "name": "stdout",
     "output_type": "stream",
     "text": [
      "Requirement already satisfied: Quandl in /opt/anaconda3/lib/python3.8/site-packages (3.5.3)\n",
      "Requirement already satisfied: requests>=2.7.0 in /opt/anaconda3/lib/python3.8/site-packages (from Quandl) (2.24.0)\n",
      "Requirement already satisfied: pandas>=0.14 in /opt/anaconda3/lib/python3.8/site-packages (from Quandl) (1.4.3)\n",
      "Requirement already satisfied: inflection>=0.3.1 in /opt/anaconda3/lib/python3.8/site-packages (from Quandl) (0.5.1)\n",
      "Requirement already satisfied: numpy>=1.8 in /opt/anaconda3/lib/python3.8/site-packages (from Quandl) (1.18.5)\n",
      "Requirement already satisfied: six in /opt/anaconda3/lib/python3.8/site-packages (from Quandl) (1.15.0)\n",
      "Requirement already satisfied: python-dateutil in /opt/anaconda3/lib/python3.8/site-packages (from Quandl) (2.8.1)\n",
      "Requirement already satisfied: more-itertools in /opt/anaconda3/lib/python3.8/site-packages (from Quandl) (8.4.0)\n",
      "Requirement already satisfied: certifi>=2017.4.17 in /opt/anaconda3/lib/python3.8/site-packages (from requests>=2.7.0->Quandl) (2020.6.20)\n",
      "Requirement already satisfied: chardet<4,>=3.0.2 in /opt/anaconda3/lib/python3.8/site-packages (from requests>=2.7.0->Quandl) (3.0.4)\n",
      "Requirement already satisfied: idna<3,>=2.5 in /opt/anaconda3/lib/python3.8/site-packages (from requests>=2.7.0->Quandl) (2.10)\n",
      "Requirement already satisfied: urllib3!=1.25.0,!=1.25.1,<1.26,>=1.21.1 in /opt/anaconda3/lib/python3.8/site-packages (from requests>=2.7.0->Quandl) (1.25.9)\n",
      "Requirement already satisfied: pytz>=2020.1 in /opt/anaconda3/lib/python3.8/site-packages (from pandas>=0.14->Quandl) (2020.1)\n"
     ]
    }
   ],
   "source": [
    "! pip install Quandl\n",
    "\n",
    "import quandl"
   ]
  },
  {
   "cell_type": "code",
   "execution_count": 57,
   "metadata": {
    "id": "AoTdOGonXEHn",
    "scrolled": false
   },
   "outputs": [
    {
     "data": {
      "text/html": [
       "<div>\n",
       "<style scoped>\n",
       "    .dataframe tbody tr th:only-of-type {\n",
       "        vertical-align: middle;\n",
       "    }\n",
       "\n",
       "    .dataframe tbody tr th {\n",
       "        vertical-align: top;\n",
       "    }\n",
       "\n",
       "    .dataframe thead th {\n",
       "        text-align: right;\n",
       "    }\n",
       "</style>\n",
       "<table border=\"1\" class=\"dataframe\">\n",
       "  <thead>\n",
       "    <tr style=\"text-align: right;\">\n",
       "      <th></th>\n",
       "      <th>Open</th>\n",
       "      <th>High</th>\n",
       "      <th>Low</th>\n",
       "      <th>Close</th>\n",
       "      <th>Volume</th>\n",
       "      <th>Dividend</th>\n",
       "      <th>Split</th>\n",
       "      <th>Adj_Open</th>\n",
       "      <th>Adj_High</th>\n",
       "      <th>Adj_Low</th>\n",
       "      <th>Adj_Close</th>\n",
       "      <th>Adj_Volume</th>\n",
       "    </tr>\n",
       "    <tr>\n",
       "      <th>Date</th>\n",
       "      <th></th>\n",
       "      <th></th>\n",
       "      <th></th>\n",
       "      <th></th>\n",
       "      <th></th>\n",
       "      <th></th>\n",
       "      <th></th>\n",
       "      <th></th>\n",
       "      <th></th>\n",
       "      <th></th>\n",
       "      <th></th>\n",
       "      <th></th>\n",
       "    </tr>\n",
       "  </thead>\n",
       "  <tbody>\n",
       "    <tr>\n",
       "      <th>2013-09-03</th>\n",
       "      <td>51.25</td>\n",
       "      <td>51.72</td>\n",
       "      <td>50.83</td>\n",
       "      <td>51.13</td>\n",
       "      <td>15277200.0</td>\n",
       "      <td>0.0</td>\n",
       "      <td>1.0</td>\n",
       "      <td>41.912759</td>\n",
       "      <td>42.297130</td>\n",
       "      <td>41.569279</td>\n",
       "      <td>41.814622</td>\n",
       "      <td>15277200.0</td>\n",
       "    </tr>\n",
       "    <tr>\n",
       "      <th>2013-09-04</th>\n",
       "      <td>51.16</td>\n",
       "      <td>52.10</td>\n",
       "      <td>50.93</td>\n",
       "      <td>51.87</td>\n",
       "      <td>19923800.0</td>\n",
       "      <td>0.0</td>\n",
       "      <td>1.0</td>\n",
       "      <td>41.839156</td>\n",
       "      <td>42.607898</td>\n",
       "      <td>41.651060</td>\n",
       "      <td>42.419801</td>\n",
       "      <td>19923800.0</td>\n",
       "    </tr>\n",
       "    <tr>\n",
       "      <th>2013-09-05</th>\n",
       "      <td>52.03</td>\n",
       "      <td>52.52</td>\n",
       "      <td>51.91</td>\n",
       "      <td>52.11</td>\n",
       "      <td>13913200.0</td>\n",
       "      <td>0.0</td>\n",
       "      <td>1.0</td>\n",
       "      <td>42.550651</td>\n",
       "      <td>42.951378</td>\n",
       "      <td>42.452514</td>\n",
       "      <td>42.616076</td>\n",
       "      <td>13913200.0</td>\n",
       "    </tr>\n",
       "    <tr>\n",
       "      <th>2013-09-06</th>\n",
       "      <td>52.41</td>\n",
       "      <td>52.71</td>\n",
       "      <td>51.28</td>\n",
       "      <td>52.56</td>\n",
       "      <td>22339900.0</td>\n",
       "      <td>0.0</td>\n",
       "      <td>1.0</td>\n",
       "      <td>42.861419</td>\n",
       "      <td>43.106762</td>\n",
       "      <td>41.937293</td>\n",
       "      <td>42.984090</td>\n",
       "      <td>22339900.0</td>\n",
       "    </tr>\n",
       "    <tr>\n",
       "      <th>2013-09-09</th>\n",
       "      <td>52.78</td>\n",
       "      <td>53.19</td>\n",
       "      <td>52.52</td>\n",
       "      <td>52.86</td>\n",
       "      <td>19936400.0</td>\n",
       "      <td>0.0</td>\n",
       "      <td>1.0</td>\n",
       "      <td>43.164008</td>\n",
       "      <td>43.499310</td>\n",
       "      <td>42.951378</td>\n",
       "      <td>43.229433</td>\n",
       "      <td>19936400.0</td>\n",
       "    </tr>\n",
       "  </tbody>\n",
       "</table>\n",
       "</div>"
      ],
      "text/plain": [
       "             Open   High    Low  Close      Volume  Dividend  Split  \\\n",
       "Date                                                                  \n",
       "2013-09-03  51.25  51.72  50.83  51.13  15277200.0       0.0    1.0   \n",
       "2013-09-04  51.16  52.10  50.93  51.87  19923800.0       0.0    1.0   \n",
       "2013-09-05  52.03  52.52  51.91  52.11  13913200.0       0.0    1.0   \n",
       "2013-09-06  52.41  52.71  51.28  52.56  22339900.0       0.0    1.0   \n",
       "2013-09-09  52.78  53.19  52.52  52.86  19936400.0       0.0    1.0   \n",
       "\n",
       "             Adj_Open   Adj_High    Adj_Low  Adj_Close  Adj_Volume  \n",
       "Date                                                                \n",
       "2013-09-03  41.912759  42.297130  41.569279  41.814622  15277200.0  \n",
       "2013-09-04  41.839156  42.607898  41.651060  42.419801  19923800.0  \n",
       "2013-09-05  42.550651  42.951378  42.452514  42.616076  13913200.0  \n",
       "2013-09-06  42.861419  43.106762  41.937293  42.984090  22339900.0  \n",
       "2013-09-09  43.164008  43.499310  42.951378  43.229433  19936400.0  "
      ]
     },
     "execution_count": 57,
     "metadata": {},
     "output_type": "execute_result"
    }
   ],
   "source": [
    "# import quandl\n",
    "\n",
    "quandl.ApiConfig.api_key = 'RiZ6tPxvRSRTckkVBYhx'\n",
    "JP_Morgan_df = quandl.get(\"EOD/JPM\")\n",
    "JP_Morgan_df.head()"
   ]
  },
  {
   "cell_type": "code",
   "execution_count": 58,
   "metadata": {},
   "outputs": [
    {
     "data": {
      "text/html": [
       "<div>\n",
       "<style scoped>\n",
       "    .dataframe tbody tr th:only-of-type {\n",
       "        vertical-align: middle;\n",
       "    }\n",
       "\n",
       "    .dataframe tbody tr th {\n",
       "        vertical-align: top;\n",
       "    }\n",
       "\n",
       "    .dataframe thead th {\n",
       "        text-align: right;\n",
       "    }\n",
       "</style>\n",
       "<table border=\"1\" class=\"dataframe\">\n",
       "  <thead>\n",
       "    <tr style=\"text-align: right;\">\n",
       "      <th></th>\n",
       "      <th>Open</th>\n",
       "      <th>High</th>\n",
       "      <th>Low</th>\n",
       "      <th>Close</th>\n",
       "      <th>Volume</th>\n",
       "      <th>Dividend</th>\n",
       "      <th>Split</th>\n",
       "      <th>Adj_Open</th>\n",
       "      <th>Adj_High</th>\n",
       "      <th>Adj_Low</th>\n",
       "      <th>Adj_Close</th>\n",
       "      <th>Adj_Volume</th>\n",
       "    </tr>\n",
       "    <tr>\n",
       "      <th>Date</th>\n",
       "      <th></th>\n",
       "      <th></th>\n",
       "      <th></th>\n",
       "      <th></th>\n",
       "      <th></th>\n",
       "      <th></th>\n",
       "      <th></th>\n",
       "      <th></th>\n",
       "      <th></th>\n",
       "      <th></th>\n",
       "      <th></th>\n",
       "      <th></th>\n",
       "    </tr>\n",
       "  </thead>\n",
       "  <tbody>\n",
       "    <tr>\n",
       "      <th>2017-12-14</th>\n",
       "      <td>106.015</td>\n",
       "      <td>106.4500</td>\n",
       "      <td>104.6400</td>\n",
       "      <td>104.66</td>\n",
       "      <td>13033082.0</td>\n",
       "      <td>0.0</td>\n",
       "      <td>1.0</td>\n",
       "      <td>96.980115</td>\n",
       "      <td>97.378043</td>\n",
       "      <td>95.722296</td>\n",
       "      <td>95.740591</td>\n",
       "      <td>13033082.0</td>\n",
       "    </tr>\n",
       "    <tr>\n",
       "      <th>2017-12-15</th>\n",
       "      <td>105.720</td>\n",
       "      <td>106.5200</td>\n",
       "      <td>105.2000</td>\n",
       "      <td>106.14</td>\n",
       "      <td>29350126.0</td>\n",
       "      <td>0.0</td>\n",
       "      <td>1.0</td>\n",
       "      <td>96.710255</td>\n",
       "      <td>97.442077</td>\n",
       "      <td>96.234571</td>\n",
       "      <td>97.094462</td>\n",
       "      <td>29350126.0</td>\n",
       "    </tr>\n",
       "    <tr>\n",
       "      <th>2017-12-18</th>\n",
       "      <td>107.310</td>\n",
       "      <td>107.6300</td>\n",
       "      <td>106.4800</td>\n",
       "      <td>106.96</td>\n",
       "      <td>12712623.0</td>\n",
       "      <td>0.0</td>\n",
       "      <td>1.0</td>\n",
       "      <td>98.164751</td>\n",
       "      <td>98.457480</td>\n",
       "      <td>97.405486</td>\n",
       "      <td>97.844579</td>\n",
       "      <td>12712623.0</td>\n",
       "    </tr>\n",
       "    <tr>\n",
       "      <th>2017-12-19</th>\n",
       "      <td>107.290</td>\n",
       "      <td>107.4900</td>\n",
       "      <td>106.4400</td>\n",
       "      <td>106.51</td>\n",
       "      <td>12149719.0</td>\n",
       "      <td>0.0</td>\n",
       "      <td>1.0</td>\n",
       "      <td>98.146456</td>\n",
       "      <td>98.329411</td>\n",
       "      <td>97.368895</td>\n",
       "      <td>97.432929</td>\n",
       "      <td>12149719.0</td>\n",
       "    </tr>\n",
       "    <tr>\n",
       "      <th>2017-12-20</th>\n",
       "      <td>107.610</td>\n",
       "      <td>107.7305</td>\n",
       "      <td>106.0900</td>\n",
       "      <td>106.14</td>\n",
       "      <td>13089983.0</td>\n",
       "      <td>0.0</td>\n",
       "      <td>1.0</td>\n",
       "      <td>98.439184</td>\n",
       "      <td>98.549415</td>\n",
       "      <td>97.048723</td>\n",
       "      <td>97.094462</td>\n",
       "      <td>13089983.0</td>\n",
       "    </tr>\n",
       "    <tr>\n",
       "      <th>2017-12-21</th>\n",
       "      <td>106.630</td>\n",
       "      <td>108.0700</td>\n",
       "      <td>106.5600</td>\n",
       "      <td>107.83</td>\n",
       "      <td>12322897.0</td>\n",
       "      <td>0.0</td>\n",
       "      <td>1.0</td>\n",
       "      <td>97.542703</td>\n",
       "      <td>98.859982</td>\n",
       "      <td>97.478668</td>\n",
       "      <td>98.640435</td>\n",
       "      <td>12322897.0</td>\n",
       "    </tr>\n",
       "    <tr>\n",
       "      <th>2017-12-22</th>\n",
       "      <td>108.130</td>\n",
       "      <td>108.4600</td>\n",
       "      <td>106.8050</td>\n",
       "      <td>107.45</td>\n",
       "      <td>14571635.0</td>\n",
       "      <td>0.0</td>\n",
       "      <td>1.0</td>\n",
       "      <td>98.914869</td>\n",
       "      <td>99.216745</td>\n",
       "      <td>97.702789</td>\n",
       "      <td>98.292820</td>\n",
       "      <td>14571635.0</td>\n",
       "    </tr>\n",
       "    <tr>\n",
       "      <th>2017-12-26</th>\n",
       "      <td>107.200</td>\n",
       "      <td>107.9900</td>\n",
       "      <td>106.4000</td>\n",
       "      <td>107.02</td>\n",
       "      <td>7403739.0</td>\n",
       "      <td>0.0</td>\n",
       "      <td>1.0</td>\n",
       "      <td>98.064126</td>\n",
       "      <td>98.786800</td>\n",
       "      <td>97.332304</td>\n",
       "      <td>97.899466</td>\n",
       "      <td>7403739.0</td>\n",
       "    </tr>\n",
       "    <tr>\n",
       "      <th>2017-12-27</th>\n",
       "      <td>106.670</td>\n",
       "      <td>107.2900</td>\n",
       "      <td>106.6700</td>\n",
       "      <td>107.22</td>\n",
       "      <td>9496548.0</td>\n",
       "      <td>0.0</td>\n",
       "      <td>1.0</td>\n",
       "      <td>97.579294</td>\n",
       "      <td>98.146456</td>\n",
       "      <td>97.579294</td>\n",
       "      <td>98.082421</td>\n",
       "      <td>9496548.0</td>\n",
       "    </tr>\n",
       "    <tr>\n",
       "      <th>2017-12-28</th>\n",
       "      <td>107.400</td>\n",
       "      <td>107.8400</td>\n",
       "      <td>107.1601</td>\n",
       "      <td>107.79</td>\n",
       "      <td>7438655.0</td>\n",
       "      <td>0.0</td>\n",
       "      <td>1.0</td>\n",
       "      <td>98.247081</td>\n",
       "      <td>98.649583</td>\n",
       "      <td>98.027626</td>\n",
       "      <td>98.603844</td>\n",
       "      <td>7438655.0</td>\n",
       "    </tr>\n",
       "  </tbody>\n",
       "</table>\n",
       "</div>"
      ],
      "text/plain": [
       "               Open      High       Low   Close      Volume  Dividend  Split  \\\n",
       "Date                                                                           \n",
       "2017-12-14  106.015  106.4500  104.6400  104.66  13033082.0       0.0    1.0   \n",
       "2017-12-15  105.720  106.5200  105.2000  106.14  29350126.0       0.0    1.0   \n",
       "2017-12-18  107.310  107.6300  106.4800  106.96  12712623.0       0.0    1.0   \n",
       "2017-12-19  107.290  107.4900  106.4400  106.51  12149719.0       0.0    1.0   \n",
       "2017-12-20  107.610  107.7305  106.0900  106.14  13089983.0       0.0    1.0   \n",
       "2017-12-21  106.630  108.0700  106.5600  107.83  12322897.0       0.0    1.0   \n",
       "2017-12-22  108.130  108.4600  106.8050  107.45  14571635.0       0.0    1.0   \n",
       "2017-12-26  107.200  107.9900  106.4000  107.02   7403739.0       0.0    1.0   \n",
       "2017-12-27  106.670  107.2900  106.6700  107.22   9496548.0       0.0    1.0   \n",
       "2017-12-28  107.400  107.8400  107.1601  107.79   7438655.0       0.0    1.0   \n",
       "\n",
       "             Adj_Open   Adj_High    Adj_Low  Adj_Close  Adj_Volume  \n",
       "Date                                                                \n",
       "2017-12-14  96.980115  97.378043  95.722296  95.740591  13033082.0  \n",
       "2017-12-15  96.710255  97.442077  96.234571  97.094462  29350126.0  \n",
       "2017-12-18  98.164751  98.457480  97.405486  97.844579  12712623.0  \n",
       "2017-12-19  98.146456  98.329411  97.368895  97.432929  12149719.0  \n",
       "2017-12-20  98.439184  98.549415  97.048723  97.094462  13089983.0  \n",
       "2017-12-21  97.542703  98.859982  97.478668  98.640435  12322897.0  \n",
       "2017-12-22  98.914869  99.216745  97.702789  98.292820  14571635.0  \n",
       "2017-12-26  98.064126  98.786800  97.332304  97.899466   7403739.0  \n",
       "2017-12-27  97.579294  98.146456  97.579294  98.082421   9496548.0  \n",
       "2017-12-28  98.247081  98.649583  98.027626  98.603844   7438655.0  "
      ]
     },
     "execution_count": 58,
     "metadata": {},
     "output_type": "execute_result"
    }
   ],
   "source": [
    "JP_Morgan_df.tail(10)"
   ]
  },
  {
   "cell_type": "markdown",
   "metadata": {},
   "source": [
    "here we have more columns than from the yahoo lib. the adjusted columns appeared"
   ]
  },
  {
   "cell_type": "code",
   "execution_count": 59,
   "metadata": {},
   "outputs": [
    {
     "data": {
      "text/plain": [
       "[<matplotlib.lines.Line2D at 0x25b36c05908>]"
      ]
     },
     "execution_count": 59,
     "metadata": {},
     "output_type": "execute_result"
    },
    {
     "data": {
      "image/png": "[encoded data removed]",
      "text/plain": [
       "<Figure size 432x288 with 1 Axes>"
      ]
     },
     "metadata": {
      "needs_background": "light"
     },
     "output_type": "display_data"
    }
   ],
   "source": [
    "plt.plot(JP_Morgan_df.Close - JP_Morgan_df.Adj_Close)"
   ]
  },
  {
   "cell_type": "markdown",
   "metadata": {},
   "source": [
    "We can see that the adjustment is not stable"
   ]
  },
  {
   "cell_type": "code",
   "execution_count": 60,
   "metadata": {},
   "outputs": [
    {
     "data": {
      "text/plain": [
       "[<matplotlib.lines.Line2D at 0x25b36cd1940>]"
      ]
     },
     "execution_count": 60,
     "metadata": {},
     "output_type": "execute_result"
    },
    {
     "data": {
      "image/png": "[encoded data removed]",
      "text/plain": [
       "<Figure size 432x288 with 1 Axes>"
      ]
     },
     "metadata": {
      "needs_background": "light"
     },
     "output_type": "display_data"
    }
   ],
   "source": [
    "plt.plot((JP_Morgan_df.Close - JP_Morgan_df.Adj_Close)/JP_Morgan_df.Close)"
   ]
  },
  {
   "cell_type": "markdown",
   "metadata": {},
   "source": [
    "Also it is not constant with an amendment to the share price"
   ]
  },
  {
   "cell_type": "markdown",
   "metadata": {},
   "source": [
    "Let us create the predictors according to the example from the link above"
   ]
  },
  {
   "cell_type": "code",
   "execution_count": 5,
   "metadata": {},
   "outputs": [
    {
     "name": "stdout",
     "output_type": "stream",
     "text": [
      "\u001b[31mERROR: TA_Lib-0.4.19-cp38-cp38-win_amd64.whl is not a supported wheel on this platform.\u001b[0m\r\n"
     ]
    }
   ],
   "source": [
    "!pip install ./TA_Lib-0.4.19-cp38-cp38-win_amd64.whl"
   ]
  },
  {
   "cell_type": "code",
   "execution_count": 62,
   "metadata": {},
   "outputs": [
    {
     "data": {
      "text/html": [
       "<div>\n",
       "<style scoped>\n",
       "    .dataframe tbody tr th:only-of-type {\n",
       "        vertical-align: middle;\n",
       "    }\n",
       "\n",
       "    .dataframe tbody tr th {\n",
       "        vertical-align: top;\n",
       "    }\n",
       "\n",
       "    .dataframe thead th {\n",
       "        text-align: right;\n",
       "    }\n",
       "</style>\n",
       "<table border=\"1\" class=\"dataframe\">\n",
       "  <thead>\n",
       "    <tr style=\"text-align: right;\">\n",
       "      <th></th>\n",
       "      <th>Open</th>\n",
       "      <th>High</th>\n",
       "      <th>Low</th>\n",
       "      <th>Close</th>\n",
       "      <th>Volume</th>\n",
       "      <th>Dividend</th>\n",
       "      <th>Split</th>\n",
       "      <th>Adj_Open</th>\n",
       "      <th>Adj_High</th>\n",
       "      <th>Adj_Low</th>\n",
       "      <th>Adj_Close</th>\n",
       "      <th>Adj_Volume</th>\n",
       "      <th>EMA10</th>\n",
       "      <th>EMA30</th>\n",
       "      <th>ATR</th>\n",
       "      <th>ADX</th>\n",
       "      <th>RSI</th>\n",
       "      <th>MACD</th>\n",
       "      <th>MACDsignal</th>\n",
       "    </tr>\n",
       "    <tr>\n",
       "      <th>Date</th>\n",
       "      <th></th>\n",
       "      <th></th>\n",
       "      <th></th>\n",
       "      <th></th>\n",
       "      <th></th>\n",
       "      <th></th>\n",
       "      <th></th>\n",
       "      <th></th>\n",
       "      <th></th>\n",
       "      <th></th>\n",
       "      <th></th>\n",
       "      <th></th>\n",
       "      <th></th>\n",
       "      <th></th>\n",
       "      <th></th>\n",
       "      <th></th>\n",
       "      <th></th>\n",
       "      <th></th>\n",
       "      <th></th>\n",
       "    </tr>\n",
       "  </thead>\n",
       "  <tbody>\n",
       "    <tr>\n",
       "      <th>2017-12-21</th>\n",
       "      <td>106.63</td>\n",
       "      <td>108.07</td>\n",
       "      <td>106.5600</td>\n",
       "      <td>107.83</td>\n",
       "      <td>12322897.0</td>\n",
       "      <td>0.0</td>\n",
       "      <td>1.0</td>\n",
       "      <td>97.542703</td>\n",
       "      <td>98.859982</td>\n",
       "      <td>97.478668</td>\n",
       "      <td>98.640435</td>\n",
       "      <td>12322897.0</td>\n",
       "      <td>106.106739</td>\n",
       "      <td>103.562698</td>\n",
       "      <td>1.715884</td>\n",
       "      <td>22.762933</td>\n",
       "      <td>66.307517</td>\n",
       "      <td>1.821963</td>\n",
       "      <td>1.791414</td>\n",
       "    </tr>\n",
       "    <tr>\n",
       "      <th>2017-12-22</th>\n",
       "      <td>108.13</td>\n",
       "      <td>108.46</td>\n",
       "      <td>106.8050</td>\n",
       "      <td>107.45</td>\n",
       "      <td>14571635.0</td>\n",
       "      <td>0.0</td>\n",
       "      <td>1.0</td>\n",
       "      <td>98.914869</td>\n",
       "      <td>99.216745</td>\n",
       "      <td>97.702789</td>\n",
       "      <td>98.292820</td>\n",
       "      <td>14571635.0</td>\n",
       "      <td>106.350968</td>\n",
       "      <td>103.813492</td>\n",
       "      <td>1.711535</td>\n",
       "      <td>23.030127</td>\n",
       "      <td>64.281895</td>\n",
       "      <td>1.815918</td>\n",
       "      <td>1.796315</td>\n",
       "    </tr>\n",
       "    <tr>\n",
       "      <th>2017-12-26</th>\n",
       "      <td>107.20</td>\n",
       "      <td>107.99</td>\n",
       "      <td>106.4000</td>\n",
       "      <td>107.02</td>\n",
       "      <td>7403739.0</td>\n",
       "      <td>0.0</td>\n",
       "      <td>1.0</td>\n",
       "      <td>98.064126</td>\n",
       "      <td>98.786800</td>\n",
       "      <td>97.332304</td>\n",
       "      <td>97.899466</td>\n",
       "      <td>7403739.0</td>\n",
       "      <td>106.472611</td>\n",
       "      <td>104.020363</td>\n",
       "      <td>1.702854</td>\n",
       "      <td>22.922306</td>\n",
       "      <td>61.974724</td>\n",
       "      <td>1.756185</td>\n",
       "      <td>1.788289</td>\n",
       "    </tr>\n",
       "    <tr>\n",
       "      <th>2017-12-27</th>\n",
       "      <td>106.67</td>\n",
       "      <td>107.29</td>\n",
       "      <td>106.6700</td>\n",
       "      <td>107.22</td>\n",
       "      <td>9496548.0</td>\n",
       "      <td>0.0</td>\n",
       "      <td>1.0</td>\n",
       "      <td>97.579294</td>\n",
       "      <td>98.146456</td>\n",
       "      <td>97.579294</td>\n",
       "      <td>98.082421</td>\n",
       "      <td>9496548.0</td>\n",
       "      <td>106.608500</td>\n",
       "      <td>104.226791</td>\n",
       "      <td>1.625507</td>\n",
       "      <td>22.822186</td>\n",
       "      <td>62.646263</td>\n",
       "      <td>1.705327</td>\n",
       "      <td>1.771696</td>\n",
       "    </tr>\n",
       "    <tr>\n",
       "      <th>2017-12-28</th>\n",
       "      <td>107.40</td>\n",
       "      <td>107.84</td>\n",
       "      <td>107.1601</td>\n",
       "      <td>107.79</td>\n",
       "      <td>7438655.0</td>\n",
       "      <td>0.0</td>\n",
       "      <td>1.0</td>\n",
       "      <td>98.247081</td>\n",
       "      <td>98.649583</td>\n",
       "      <td>98.027626</td>\n",
       "      <td>98.603844</td>\n",
       "      <td>7438655.0</td>\n",
       "      <td>106.823318</td>\n",
       "      <td>104.456676</td>\n",
       "      <td>1.557964</td>\n",
       "      <td>23.056674</td>\n",
       "      <td>64.566868</td>\n",
       "      <td>1.691517</td>\n",
       "      <td>1.755660</td>\n",
       "    </tr>\n",
       "  </tbody>\n",
       "</table>\n",
       "</div>"
      ],
      "text/plain": [
       "              Open    High       Low   Close      Volume  Dividend  Split  \\\n",
       "Date                                                                        \n",
       "2017-12-21  106.63  108.07  106.5600  107.83  12322897.0       0.0    1.0   \n",
       "2017-12-22  108.13  108.46  106.8050  107.45  14571635.0       0.0    1.0   \n",
       "2017-12-26  107.20  107.99  106.4000  107.02   7403739.0       0.0    1.0   \n",
       "2017-12-27  106.67  107.29  106.6700  107.22   9496548.0       0.0    1.0   \n",
       "2017-12-28  107.40  107.84  107.1601  107.79   7438655.0       0.0    1.0   \n",
       "\n",
       "             Adj_Open   Adj_High    Adj_Low  Adj_Close  Adj_Volume  \\\n",
       "Date                                                                 \n",
       "2017-12-21  97.542703  98.859982  97.478668  98.640435  12322897.0   \n",
       "2017-12-22  98.914869  99.216745  97.702789  98.292820  14571635.0   \n",
       "2017-12-26  98.064126  98.786800  97.332304  97.899466   7403739.0   \n",
       "2017-12-27  97.579294  98.146456  97.579294  98.082421   9496548.0   \n",
       "2017-12-28  98.247081  98.649583  98.027626  98.603844   7438655.0   \n",
       "\n",
       "                 EMA10       EMA30       ATR        ADX        RSI      MACD  \\\n",
       "Date                                                                           \n",
       "2017-12-21  106.106739  103.562698  1.715884  22.762933  66.307517  1.821963   \n",
       "2017-12-22  106.350968  103.813492  1.711535  23.030127  64.281895  1.815918   \n",
       "2017-12-26  106.472611  104.020363  1.702854  22.922306  61.974724  1.756185   \n",
       "2017-12-27  106.608500  104.226791  1.625507  22.822186  62.646263  1.705327   \n",
       "2017-12-28  106.823318  104.456676  1.557964  23.056674  64.566868  1.691517   \n",
       "\n",
       "            MACDsignal  \n",
       "Date                    \n",
       "2017-12-21    1.791414  \n",
       "2017-12-22    1.796315  \n",
       "2017-12-26    1.788289  \n",
       "2017-12-27    1.771696  \n",
       "2017-12-28    1.755660  "
      ]
     },
     "execution_count": 62,
     "metadata": {},
     "output_type": "execute_result"
    }
   ],
   "source": [
    "import talib as ta\n",
    "JP_Morgan_df['EMA10'] = ta.EMA(JP_Morgan_df['Close'].values, timeperiod=10)\n",
    "JP_Morgan_df['EMA30'] = ta.EMA(JP_Morgan_df['Close'].values, timeperiod=30)\n",
    "JP_Morgan_df['ATR'] = ta.ATR(JP_Morgan_df['High'].values, JP_Morgan_df['Low'].values, JP_Morgan_df['Close'].values, timeperiod=14)\n",
    "JP_Morgan_df['ADX'] = ta.ADX(JP_Morgan_df['High'].values, JP_Morgan_df['Low'].values, JP_Morgan_df['Close'].values, timeperiod=14)\n",
    "JP_Morgan_df['RSI'] = ta.RSI(JP_Morgan_df['Close'].values, timeperiod=14)\n",
    "macd, macdsignal, macdhist = ta.MACD(JP_Morgan_df['Close'].values, fastperiod=12, slowperiod=26, signalperiod=9)\n",
    "JP_Morgan_df['MACD'] = macd\n",
    "JP_Morgan_df['MACDsignal'] = macdsignal\n",
    "JP_Morgan_df.tail()"
   ]
  },
  {
   "cell_type": "code",
   "execution_count": 63,
   "metadata": {},
   "outputs": [
    {
     "data": {
      "text/html": [
       "<div>\n",
       "<style scoped>\n",
       "    .dataframe tbody tr th:only-of-type {\n",
       "        vertical-align: middle;\n",
       "    }\n",
       "\n",
       "    .dataframe tbody tr th {\n",
       "        vertical-align: top;\n",
       "    }\n",
       "\n",
       "    .dataframe thead th {\n",
       "        text-align: right;\n",
       "    }\n",
       "</style>\n",
       "<table border=\"1\" class=\"dataframe\">\n",
       "  <thead>\n",
       "    <tr style=\"text-align: right;\">\n",
       "      <th></th>\n",
       "      <th>Open</th>\n",
       "      <th>High</th>\n",
       "      <th>Low</th>\n",
       "      <th>Close</th>\n",
       "      <th>Volume</th>\n",
       "      <th>Dividend</th>\n",
       "      <th>Split</th>\n",
       "      <th>Adj_Open</th>\n",
       "      <th>Adj_High</th>\n",
       "      <th>Adj_Low</th>\n",
       "      <th>...</th>\n",
       "      <th>EMA10</th>\n",
       "      <th>EMA30</th>\n",
       "      <th>ATR</th>\n",
       "      <th>ADX</th>\n",
       "      <th>RSI</th>\n",
       "      <th>MACD</th>\n",
       "      <th>MACDsignal</th>\n",
       "      <th>ClgtEMA10</th>\n",
       "      <th>EMA10gtEMA30</th>\n",
       "      <th>MACDSIGgtMACD</th>\n",
       "    </tr>\n",
       "    <tr>\n",
       "      <th>Date</th>\n",
       "      <th></th>\n",
       "      <th></th>\n",
       "      <th></th>\n",
       "      <th></th>\n",
       "      <th></th>\n",
       "      <th></th>\n",
       "      <th></th>\n",
       "      <th></th>\n",
       "      <th></th>\n",
       "      <th></th>\n",
       "      <th></th>\n",
       "      <th></th>\n",
       "      <th></th>\n",
       "      <th></th>\n",
       "      <th></th>\n",
       "      <th></th>\n",
       "      <th></th>\n",
       "      <th></th>\n",
       "      <th></th>\n",
       "      <th></th>\n",
       "      <th></th>\n",
       "    </tr>\n",
       "  </thead>\n",
       "  <tbody>\n",
       "    <tr>\n",
       "      <th>2017-12-21</th>\n",
       "      <td>106.63</td>\n",
       "      <td>108.07</td>\n",
       "      <td>106.5600</td>\n",
       "      <td>107.83</td>\n",
       "      <td>12322897.0</td>\n",
       "      <td>0.0</td>\n",
       "      <td>1.0</td>\n",
       "      <td>97.542703</td>\n",
       "      <td>98.859982</td>\n",
       "      <td>97.478668</td>\n",
       "      <td>...</td>\n",
       "      <td>106.106739</td>\n",
       "      <td>103.562698</td>\n",
       "      <td>1.715884</td>\n",
       "      <td>22.762933</td>\n",
       "      <td>66.307517</td>\n",
       "      <td>1.821963</td>\n",
       "      <td>1.791414</td>\n",
       "      <td>1</td>\n",
       "      <td>1</td>\n",
       "      <td>-1</td>\n",
       "    </tr>\n",
       "    <tr>\n",
       "      <th>2017-12-22</th>\n",
       "      <td>108.13</td>\n",
       "      <td>108.46</td>\n",
       "      <td>106.8050</td>\n",
       "      <td>107.45</td>\n",
       "      <td>14571635.0</td>\n",
       "      <td>0.0</td>\n",
       "      <td>1.0</td>\n",
       "      <td>98.914869</td>\n",
       "      <td>99.216745</td>\n",
       "      <td>97.702789</td>\n",
       "      <td>...</td>\n",
       "      <td>106.350968</td>\n",
       "      <td>103.813492</td>\n",
       "      <td>1.711535</td>\n",
       "      <td>23.030127</td>\n",
       "      <td>64.281895</td>\n",
       "      <td>1.815918</td>\n",
       "      <td>1.796315</td>\n",
       "      <td>1</td>\n",
       "      <td>1</td>\n",
       "      <td>-1</td>\n",
       "    </tr>\n",
       "    <tr>\n",
       "      <th>2017-12-26</th>\n",
       "      <td>107.20</td>\n",
       "      <td>107.99</td>\n",
       "      <td>106.4000</td>\n",
       "      <td>107.02</td>\n",
       "      <td>7403739.0</td>\n",
       "      <td>0.0</td>\n",
       "      <td>1.0</td>\n",
       "      <td>98.064126</td>\n",
       "      <td>98.786800</td>\n",
       "      <td>97.332304</td>\n",
       "      <td>...</td>\n",
       "      <td>106.472611</td>\n",
       "      <td>104.020363</td>\n",
       "      <td>1.702854</td>\n",
       "      <td>22.922306</td>\n",
       "      <td>61.974724</td>\n",
       "      <td>1.756185</td>\n",
       "      <td>1.788289</td>\n",
       "      <td>1</td>\n",
       "      <td>1</td>\n",
       "      <td>1</td>\n",
       "    </tr>\n",
       "    <tr>\n",
       "      <th>2017-12-27</th>\n",
       "      <td>106.67</td>\n",
       "      <td>107.29</td>\n",
       "      <td>106.6700</td>\n",
       "      <td>107.22</td>\n",
       "      <td>9496548.0</td>\n",
       "      <td>0.0</td>\n",
       "      <td>1.0</td>\n",
       "      <td>97.579294</td>\n",
       "      <td>98.146456</td>\n",
       "      <td>97.579294</td>\n",
       "      <td>...</td>\n",
       "      <td>106.608500</td>\n",
       "      <td>104.226791</td>\n",
       "      <td>1.625507</td>\n",
       "      <td>22.822186</td>\n",
       "      <td>62.646263</td>\n",
       "      <td>1.705327</td>\n",
       "      <td>1.771696</td>\n",
       "      <td>1</td>\n",
       "      <td>1</td>\n",
       "      <td>1</td>\n",
       "    </tr>\n",
       "    <tr>\n",
       "      <th>2017-12-28</th>\n",
       "      <td>107.40</td>\n",
       "      <td>107.84</td>\n",
       "      <td>107.1601</td>\n",
       "      <td>107.79</td>\n",
       "      <td>7438655.0</td>\n",
       "      <td>0.0</td>\n",
       "      <td>1.0</td>\n",
       "      <td>98.247081</td>\n",
       "      <td>98.649583</td>\n",
       "      <td>98.027626</td>\n",
       "      <td>...</td>\n",
       "      <td>106.823318</td>\n",
       "      <td>104.456676</td>\n",
       "      <td>1.557964</td>\n",
       "      <td>23.056674</td>\n",
       "      <td>64.566868</td>\n",
       "      <td>1.691517</td>\n",
       "      <td>1.755660</td>\n",
       "      <td>1</td>\n",
       "      <td>1</td>\n",
       "      <td>1</td>\n",
       "    </tr>\n",
       "  </tbody>\n",
       "</table>\n",
       "<p>5 rows × 22 columns</p>\n",
       "</div>"
      ],
      "text/plain": [
       "              Open    High       Low   Close      Volume  Dividend  Split  \\\n",
       "Date                                                                        \n",
       "2017-12-21  106.63  108.07  106.5600  107.83  12322897.0       0.0    1.0   \n",
       "2017-12-22  108.13  108.46  106.8050  107.45  14571635.0       0.0    1.0   \n",
       "2017-12-26  107.20  107.99  106.4000  107.02   7403739.0       0.0    1.0   \n",
       "2017-12-27  106.67  107.29  106.6700  107.22   9496548.0       0.0    1.0   \n",
       "2017-12-28  107.40  107.84  107.1601  107.79   7438655.0       0.0    1.0   \n",
       "\n",
       "             Adj_Open   Adj_High    Adj_Low  ...       EMA10       EMA30  \\\n",
       "Date                                         ...                           \n",
       "2017-12-21  97.542703  98.859982  97.478668  ...  106.106739  103.562698   \n",
       "2017-12-22  98.914869  99.216745  97.702789  ...  106.350968  103.813492   \n",
       "2017-12-26  98.064126  98.786800  97.332304  ...  106.472611  104.020363   \n",
       "2017-12-27  97.579294  98.146456  97.579294  ...  106.608500  104.226791   \n",
       "2017-12-28  98.247081  98.649583  98.027626  ...  106.823318  104.456676   \n",
       "\n",
       "                 ATR        ADX        RSI      MACD  MACDsignal  ClgtEMA10  \\\n",
       "Date                                                                          \n",
       "2017-12-21  1.715884  22.762933  66.307517  1.821963    1.791414          1   \n",
       "2017-12-22  1.711535  23.030127  64.281895  1.815918    1.796315          1   \n",
       "2017-12-26  1.702854  22.922306  61.974724  1.756185    1.788289          1   \n",
       "2017-12-27  1.625507  22.822186  62.646263  1.705327    1.771696          1   \n",
       "2017-12-28  1.557964  23.056674  64.566868  1.691517    1.755660          1   \n",
       "\n",
       "            EMA10gtEMA30  MACDSIGgtMACD  \n",
       "Date                                     \n",
       "2017-12-21             1             -1  \n",
       "2017-12-22             1             -1  \n",
       "2017-12-26             1              1  \n",
       "2017-12-27             1              1  \n",
       "2017-12-28             1              1  \n",
       "\n",
       "[5 rows x 22 columns]"
      ]
     },
     "execution_count": 63,
     "metadata": {},
     "output_type": "execute_result"
    }
   ],
   "source": [
    "import numpy as np\n",
    "JP_Morgan_df['ClgtEMA10'] = np.where(JP_Morgan_df['Close'] > JP_Morgan_df['EMA10'], 1, -1)\n",
    "JP_Morgan_df['EMA10gtEMA30'] = np.where(JP_Morgan_df['EMA10'] > JP_Morgan_df['EMA30'], 1, -1)\n",
    "JP_Morgan_df['MACDSIGgtMACD'] = np.where(JP_Morgan_df['MACDsignal'] > JP_Morgan_df['MACD'], 1, -1)\n",
    "JP_Morgan_df.tail()"
   ]
  },
  {
   "cell_type": "markdown",
   "metadata": {},
   "source": [
    "Create target variable and try to solve a regression task"
   ]
  },
  {
   "cell_type": "code",
   "execution_count": 64,
   "metadata": {},
   "outputs": [
    {
     "data": {
      "text/html": [
       "<div>\n",
       "<style scoped>\n",
       "    .dataframe tbody tr th:only-of-type {\n",
       "        vertical-align: middle;\n",
       "    }\n",
       "\n",
       "    .dataframe tbody tr th {\n",
       "        vertical-align: top;\n",
       "    }\n",
       "\n",
       "    .dataframe thead th {\n",
       "        text-align: right;\n",
       "    }\n",
       "</style>\n",
       "<table border=\"1\" class=\"dataframe\">\n",
       "  <thead>\n",
       "    <tr style=\"text-align: right;\">\n",
       "      <th></th>\n",
       "      <th>Open</th>\n",
       "      <th>High</th>\n",
       "      <th>Low</th>\n",
       "      <th>Close</th>\n",
       "      <th>Volume</th>\n",
       "      <th>Dividend</th>\n",
       "      <th>Split</th>\n",
       "      <th>Adj_Open</th>\n",
       "      <th>Adj_High</th>\n",
       "      <th>Adj_Low</th>\n",
       "      <th>...</th>\n",
       "      <th>ATR</th>\n",
       "      <th>ADX</th>\n",
       "      <th>RSI</th>\n",
       "      <th>MACD</th>\n",
       "      <th>MACDsignal</th>\n",
       "      <th>ClgtEMA10</th>\n",
       "      <th>EMA10gtEMA30</th>\n",
       "      <th>MACDSIGgtMACD</th>\n",
       "      <th>Return</th>\n",
       "      <th>target_rgs</th>\n",
       "    </tr>\n",
       "    <tr>\n",
       "      <th>Date</th>\n",
       "      <th></th>\n",
       "      <th></th>\n",
       "      <th></th>\n",
       "      <th></th>\n",
       "      <th></th>\n",
       "      <th></th>\n",
       "      <th></th>\n",
       "      <th></th>\n",
       "      <th></th>\n",
       "      <th></th>\n",
       "      <th></th>\n",
       "      <th></th>\n",
       "      <th></th>\n",
       "      <th></th>\n",
       "      <th></th>\n",
       "      <th></th>\n",
       "      <th></th>\n",
       "      <th></th>\n",
       "      <th></th>\n",
       "      <th></th>\n",
       "      <th></th>\n",
       "    </tr>\n",
       "  </thead>\n",
       "  <tbody>\n",
       "    <tr>\n",
       "      <th>2017-12-21</th>\n",
       "      <td>106.63</td>\n",
       "      <td>108.07</td>\n",
       "      <td>106.5600</td>\n",
       "      <td>107.83</td>\n",
       "      <td>12322897.0</td>\n",
       "      <td>0.0</td>\n",
       "      <td>1.0</td>\n",
       "      <td>97.542703</td>\n",
       "      <td>98.859982</td>\n",
       "      <td>97.478668</td>\n",
       "      <td>...</td>\n",
       "      <td>1.715884</td>\n",
       "      <td>22.762933</td>\n",
       "      <td>66.307517</td>\n",
       "      <td>1.821963</td>\n",
       "      <td>1.791414</td>\n",
       "      <td>1</td>\n",
       "      <td>1</td>\n",
       "      <td>-1</td>\n",
       "      <td>-0.003524</td>\n",
       "      <td>-0.003524</td>\n",
       "    </tr>\n",
       "    <tr>\n",
       "      <th>2017-12-22</th>\n",
       "      <td>108.13</td>\n",
       "      <td>108.46</td>\n",
       "      <td>106.8050</td>\n",
       "      <td>107.45</td>\n",
       "      <td>14571635.0</td>\n",
       "      <td>0.0</td>\n",
       "      <td>1.0</td>\n",
       "      <td>98.914869</td>\n",
       "      <td>99.216745</td>\n",
       "      <td>97.702789</td>\n",
       "      <td>...</td>\n",
       "      <td>1.711535</td>\n",
       "      <td>23.030127</td>\n",
       "      <td>64.281895</td>\n",
       "      <td>1.815918</td>\n",
       "      <td>1.796315</td>\n",
       "      <td>1</td>\n",
       "      <td>1</td>\n",
       "      <td>-1</td>\n",
       "      <td>-0.004002</td>\n",
       "      <td>-0.004002</td>\n",
       "    </tr>\n",
       "    <tr>\n",
       "      <th>2017-12-26</th>\n",
       "      <td>107.20</td>\n",
       "      <td>107.99</td>\n",
       "      <td>106.4000</td>\n",
       "      <td>107.02</td>\n",
       "      <td>7403739.0</td>\n",
       "      <td>0.0</td>\n",
       "      <td>1.0</td>\n",
       "      <td>98.064126</td>\n",
       "      <td>98.786800</td>\n",
       "      <td>97.332304</td>\n",
       "      <td>...</td>\n",
       "      <td>1.702854</td>\n",
       "      <td>22.922306</td>\n",
       "      <td>61.974724</td>\n",
       "      <td>1.756185</td>\n",
       "      <td>1.788289</td>\n",
       "      <td>1</td>\n",
       "      <td>1</td>\n",
       "      <td>1</td>\n",
       "      <td>0.001869</td>\n",
       "      <td>0.001869</td>\n",
       "    </tr>\n",
       "    <tr>\n",
       "      <th>2017-12-27</th>\n",
       "      <td>106.67</td>\n",
       "      <td>107.29</td>\n",
       "      <td>106.6700</td>\n",
       "      <td>107.22</td>\n",
       "      <td>9496548.0</td>\n",
       "      <td>0.0</td>\n",
       "      <td>1.0</td>\n",
       "      <td>97.579294</td>\n",
       "      <td>98.146456</td>\n",
       "      <td>97.579294</td>\n",
       "      <td>...</td>\n",
       "      <td>1.625507</td>\n",
       "      <td>22.822186</td>\n",
       "      <td>62.646263</td>\n",
       "      <td>1.705327</td>\n",
       "      <td>1.771696</td>\n",
       "      <td>1</td>\n",
       "      <td>1</td>\n",
       "      <td>1</td>\n",
       "      <td>0.005316</td>\n",
       "      <td>0.005316</td>\n",
       "    </tr>\n",
       "    <tr>\n",
       "      <th>2017-12-28</th>\n",
       "      <td>107.40</td>\n",
       "      <td>107.84</td>\n",
       "      <td>107.1601</td>\n",
       "      <td>107.79</td>\n",
       "      <td>7438655.0</td>\n",
       "      <td>0.0</td>\n",
       "      <td>1.0</td>\n",
       "      <td>98.247081</td>\n",
       "      <td>98.649583</td>\n",
       "      <td>98.027626</td>\n",
       "      <td>...</td>\n",
       "      <td>1.557964</td>\n",
       "      <td>23.056674</td>\n",
       "      <td>64.566868</td>\n",
       "      <td>1.691517</td>\n",
       "      <td>1.755660</td>\n",
       "      <td>1</td>\n",
       "      <td>1</td>\n",
       "      <td>1</td>\n",
       "      <td>NaN</td>\n",
       "      <td>NaN</td>\n",
       "    </tr>\n",
       "  </tbody>\n",
       "</table>\n",
       "<p>5 rows × 24 columns</p>\n",
       "</div>"
      ],
      "text/plain": [
       "              Open    High       Low   Close      Volume  Dividend  Split  \\\n",
       "Date                                                                        \n",
       "2017-12-21  106.63  108.07  106.5600  107.83  12322897.0       0.0    1.0   \n",
       "2017-12-22  108.13  108.46  106.8050  107.45  14571635.0       0.0    1.0   \n",
       "2017-12-26  107.20  107.99  106.4000  107.02   7403739.0       0.0    1.0   \n",
       "2017-12-27  106.67  107.29  106.6700  107.22   9496548.0       0.0    1.0   \n",
       "2017-12-28  107.40  107.84  107.1601  107.79   7438655.0       0.0    1.0   \n",
       "\n",
       "             Adj_Open   Adj_High    Adj_Low  ...       ATR        ADX  \\\n",
       "Date                                         ...                        \n",
       "2017-12-21  97.542703  98.859982  97.478668  ...  1.715884  22.762933   \n",
       "2017-12-22  98.914869  99.216745  97.702789  ...  1.711535  23.030127   \n",
       "2017-12-26  98.064126  98.786800  97.332304  ...  1.702854  22.922306   \n",
       "2017-12-27  97.579294  98.146456  97.579294  ...  1.625507  22.822186   \n",
       "2017-12-28  98.247081  98.649583  98.027626  ...  1.557964  23.056674   \n",
       "\n",
       "                  RSI      MACD  MACDsignal  ClgtEMA10  EMA10gtEMA30  \\\n",
       "Date                                                                   \n",
       "2017-12-21  66.307517  1.821963    1.791414          1             1   \n",
       "2017-12-22  64.281895  1.815918    1.796315          1             1   \n",
       "2017-12-26  61.974724  1.756185    1.788289          1             1   \n",
       "2017-12-27  62.646263  1.705327    1.771696          1             1   \n",
       "2017-12-28  64.566868  1.691517    1.755660          1             1   \n",
       "\n",
       "            MACDSIGgtMACD    Return  target_rgs  \n",
       "Date                                             \n",
       "2017-12-21             -1 -0.003524   -0.003524  \n",
       "2017-12-22             -1 -0.004002   -0.004002  \n",
       "2017-12-26              1  0.001869    0.001869  \n",
       "2017-12-27              1  0.005316    0.005316  \n",
       "2017-12-28              1       NaN         NaN  \n",
       "\n",
       "[5 rows x 24 columns]"
      ]
     },
     "execution_count": 64,
     "metadata": {},
     "output_type": "execute_result"
    }
   ],
   "source": [
    "JP_Morgan_df['Return'] = JP_Morgan_df['Close'].pct_change(1).shift(-1)\n",
    "JP_Morgan_df['target_rgs'] = JP_Morgan_df['Return']\n",
    "JP_Morgan_df.tail()"
   ]
  },
  {
   "cell_type": "markdown",
   "metadata": {},
   "source": [
    "### Applying Decision Tree to obtained data"
   ]
  },
  {
   "cell_type": "code",
   "execution_count": 65,
   "metadata": {},
   "outputs": [],
   "source": [
    "JP_Morgan_df.fillna(0, inplace=True)"
   ]
  },
  {
   "cell_type": "code",
   "execution_count": 66,
   "metadata": {
    "scrolled": true
   },
   "outputs": [
    {
     "data": {
      "text/html": [
       "<div>\n",
       "<style scoped>\n",
       "    .dataframe tbody tr th:only-of-type {\n",
       "        vertical-align: middle;\n",
       "    }\n",
       "\n",
       "    .dataframe tbody tr th {\n",
       "        vertical-align: top;\n",
       "    }\n",
       "\n",
       "    .dataframe thead th {\n",
       "        text-align: right;\n",
       "    }\n",
       "</style>\n",
       "<table border=\"1\" class=\"dataframe\">\n",
       "  <thead>\n",
       "    <tr style=\"text-align: right;\">\n",
       "      <th></th>\n",
       "      <th>ATR</th>\n",
       "      <th>ADX</th>\n",
       "      <th>RSI</th>\n",
       "      <th>ClgtEMA10</th>\n",
       "      <th>EMA10gtEMA30</th>\n",
       "      <th>MACDSIGgtMACD</th>\n",
       "    </tr>\n",
       "    <tr>\n",
       "      <th>Date</th>\n",
       "      <th></th>\n",
       "      <th></th>\n",
       "      <th></th>\n",
       "      <th></th>\n",
       "      <th></th>\n",
       "      <th></th>\n",
       "    </tr>\n",
       "  </thead>\n",
       "  <tbody>\n",
       "    <tr>\n",
       "      <th>2017-12-21</th>\n",
       "      <td>1.715884</td>\n",
       "      <td>22.762933</td>\n",
       "      <td>66.307517</td>\n",
       "      <td>1</td>\n",
       "      <td>1</td>\n",
       "      <td>-1</td>\n",
       "    </tr>\n",
       "    <tr>\n",
       "      <th>2017-12-22</th>\n",
       "      <td>1.711535</td>\n",
       "      <td>23.030127</td>\n",
       "      <td>64.281895</td>\n",
       "      <td>1</td>\n",
       "      <td>1</td>\n",
       "      <td>-1</td>\n",
       "    </tr>\n",
       "    <tr>\n",
       "      <th>2017-12-26</th>\n",
       "      <td>1.702854</td>\n",
       "      <td>22.922306</td>\n",
       "      <td>61.974724</td>\n",
       "      <td>1</td>\n",
       "      <td>1</td>\n",
       "      <td>1</td>\n",
       "    </tr>\n",
       "    <tr>\n",
       "      <th>2017-12-27</th>\n",
       "      <td>1.625507</td>\n",
       "      <td>22.822186</td>\n",
       "      <td>62.646263</td>\n",
       "      <td>1</td>\n",
       "      <td>1</td>\n",
       "      <td>1</td>\n",
       "    </tr>\n",
       "    <tr>\n",
       "      <th>2017-12-28</th>\n",
       "      <td>1.557964</td>\n",
       "      <td>23.056674</td>\n",
       "      <td>64.566868</td>\n",
       "      <td>1</td>\n",
       "      <td>1</td>\n",
       "      <td>1</td>\n",
       "    </tr>\n",
       "  </tbody>\n",
       "</table>\n",
       "</div>"
      ],
      "text/plain": [
       "                 ATR        ADX        RSI  ClgtEMA10  EMA10gtEMA30  \\\n",
       "Date                                                                  \n",
       "2017-12-21  1.715884  22.762933  66.307517          1             1   \n",
       "2017-12-22  1.711535  23.030127  64.281895          1             1   \n",
       "2017-12-26  1.702854  22.922306  61.974724          1             1   \n",
       "2017-12-27  1.625507  22.822186  62.646263          1             1   \n",
       "2017-12-28  1.557964  23.056674  64.566868          1             1   \n",
       "\n",
       "            MACDSIGgtMACD  \n",
       "Date                       \n",
       "2017-12-21             -1  \n",
       "2017-12-22             -1  \n",
       "2017-12-26              1  \n",
       "2017-12-27              1  \n",
       "2017-12-28              1  "
      ]
     },
     "execution_count": 66,
     "metadata": {},
     "output_type": "execute_result"
    }
   ],
   "source": [
    "predictors_list = ['ATR', 'ADX','RSI', 'ClgtEMA10', 'EMA10gtEMA30', 'MACDSIGgtMACD']\n",
    "X = JP_Morgan_df[predictors_list]\n",
    "X.tail()"
   ]
  },
  {
   "cell_type": "code",
   "execution_count": 67,
   "metadata": {},
   "outputs": [
    {
     "data": {
      "text/plain": [
       "Date\n",
       "2017-12-21   -0.003524\n",
       "2017-12-22   -0.004002\n",
       "2017-12-26    0.001869\n",
       "2017-12-27    0.005316\n",
       "2017-12-28    0.000000\n",
       "Name: target_rgs, dtype: float64"
      ]
     },
     "execution_count": 67,
     "metadata": {},
     "output_type": "execute_result"
    }
   ],
   "source": [
    "y_rgs = JP_Morgan_df.target_rgs\n",
    "y_rgs.tail()"
   ]
  },
  {
   "cell_type": "code",
   "execution_count": 68,
   "metadata": {},
   "outputs": [],
   "source": [
    "y_rgs.fillna(0, inplace=True)"
   ]
  },
  {
   "cell_type": "code",
   "execution_count": 69,
   "metadata": {
    "scrolled": true
   },
   "outputs": [
    {
     "name": "stdout",
     "output_type": "stream",
     "text": [
      "(763, 6) (763,)\n",
      "(327, 6) (327,)\n"
     ]
    }
   ],
   "source": [
    "train_length = int(len(JP_Morgan_df)*0.70)\n",
    "X_rgs_train = X[:train_length]\n",
    "X_rgs_test = X[train_length:]\n",
    "y_rgs_train = y_rgs[:train_length]\n",
    "y_rgs_test = y_rgs[train_length:]\n",
    "\n",
    "print (X_rgs_train.shape, y_rgs_train.shape)\n",
    "print (X_rgs_test.shape, y_rgs_test.shape)"
   ]
  },
  {
   "cell_type": "code",
   "execution_count": 70,
   "metadata": {
    "scrolled": true
   },
   "outputs": [
    {
     "data": {
      "text/plain": [
       "DecisionTreeRegressor(criterion='mse', max_depth=None, max_features=None,\n",
       "                      max_leaf_nodes=None, min_impurity_decrease=0.0,\n",
       "                      min_impurity_split=None, min_samples_leaf=1,\n",
       "                      min_samples_split=2, min_weight_fraction_leaf=0.0,\n",
       "                      presort=False, random_state=None, splitter='best')"
      ]
     },
     "execution_count": 70,
     "metadata": {},
     "output_type": "execute_result"
    }
   ],
   "source": [
    "from sklearn.tree import DecisionTreeRegressor\n",
    "regression_model = DecisionTreeRegressor()\n",
    "\n",
    "# fit the model\n",
    "regression_model.fit(X_rgs_train, y_rgs_train)"
   ]
  },
  {
   "cell_type": "markdown",
   "metadata": {},
   "source": [
    "because \"continuous is not supported\" for accuracy, let's calculate another error from sklearn"
   ]
  },
  {
   "cell_type": "code",
   "execution_count": 71,
   "metadata": {},
   "outputs": [],
   "source": [
    "from sklearn.metrics import mean_absolute_error"
   ]
  },
  {
   "cell_type": "code",
   "execution_count": 72,
   "metadata": {
    "scrolled": true
   },
   "outputs": [
    {
     "name": "stdout",
     "output_type": "stream",
     "text": [
      "Train_data Accuracy: 0.02\n",
      "Test_data Accuracy: 1.52\n"
     ]
    }
   ],
   "source": [
    "# Accuracy Score\n",
    "accuracy_train = mean_absolute_error(y_rgs_train, regression_model.predict(X_rgs_train)) * 100\n",
    "accuracy_test = mean_absolute_error(y_rgs_test, regression_model.predict(X_rgs_test)) * 100\n",
    "\n",
    "print ('Train_data Accuracy: %.2f' %accuracy_train)\n",
    "print ('Test_data Accuracy: %.2f' %accuracy_test)"
   ]
  },
  {
   "cell_type": "code",
   "execution_count": 73,
   "metadata": {},
   "outputs": [],
   "source": [
    "regression_model_pred = regression_model.predict(X_rgs_test)"
   ]
  },
  {
   "cell_type": "code",
   "execution_count": 74,
   "metadata": {
    "scrolled": true
   },
   "outputs": [
    {
     "data": {
      "text/plain": [
       "Date\n",
       "2016-09-13   -0.001954\n",
       "2016-09-14    0.003614\n",
       "2016-09-15   -0.012305\n",
       "2016-09-16    0.005621\n",
       "2016-09-19    0.004079\n",
       "2016-09-20    0.005718\n",
       "2016-09-21    0.008229\n",
       "2016-09-22   -0.002077\n",
       "2016-09-23   -0.021859\n",
       "2016-09-26    0.008817\n",
       "Name: target_rgs, dtype: float64"
      ]
     },
     "execution_count": 74,
     "metadata": {},
     "output_type": "execute_result"
    }
   ],
   "source": [
    "y_rgs_test.head(10)"
   ]
  },
  {
   "cell_type": "code",
   "execution_count": 75,
   "metadata": {},
   "outputs": [
    {
     "data": {
      "text/plain": [
       "array([-0.00535975,  0.00428036, -0.00248624,  0.02727925,  0.02727925,\n",
       "       -0.00199005, -0.00792079,  0.00273806,  0.0061237 ,  0.02727925])"
      ]
     },
     "execution_count": 75,
     "metadata": {},
     "output_type": "execute_result"
    }
   ],
   "source": [
    "regression_model_pred[:10]"
   ]
  },
  {
   "cell_type": "markdown",
   "metadata": {},
   "source": [
    "We see that the train error is several times lower than the test one. But the predictions are not as bad as expected. The model guesses the direction often enough but fails with the slace of this direction."
   ]
  },
  {
   "cell_type": "code",
   "execution_count": 76,
   "metadata": {},
   "outputs": [
    {
     "data": {
      "text/plain": [
       "<matplotlib.legend.Legend at 0x25b36ba7dd8>"
      ]
     },
     "execution_count": 76,
     "metadata": {},
     "output_type": "execute_result"
    },
    {
     "data": {
      "image/png": "[encoded data removed]",
      "text/plain": [
       "<Figure size 432x288 with 1 Axes>"
      ]
     },
     "metadata": {
      "needs_background": "light"
     },
     "output_type": "display_data"
    }
   ],
   "source": [
    "plt.hist(y_rgs_test, alpha=0.5, label='real')\n",
    "plt.hist(regression_model_pred, alpha=0.5, label='[predicted]')\n",
    "plt.legend(fontsize=16)"
   ]
  },
  {
   "cell_type": "code",
   "execution_count": 77,
   "metadata": {},
   "outputs": [
    {
     "data": {
      "text/plain": [
       "<matplotlib.collections.PathCollection at 0x25b36dc2d30>"
      ]
     },
     "execution_count": 77,
     "metadata": {},
     "output_type": "execute_result"
    },
    {
     "data": {
      "image/png": "[encoded data removed]",
      "text/plain": [
       "<Figure size 432x288 with 1 Axes>"
      ]
     },
     "metadata": {
      "needs_background": "light"
     },
     "output_type": "display_data"
    }
   ],
   "source": [
    "plt.scatter(regression_model_pred, y_rgs_test)"
   ]
  },
  {
   "cell_type": "markdown",
   "metadata": {},
   "source": [
    "The strategy may be defined as following: if the model predicts the price rising for the next day - buy today. If the price is goind to fall according to the model - sell and short today. "
   ]
  }
 ],
 "metadata": {
  "colab": {
   "name": "Big_HW.ipynb",
   "provenance": []
  },
  "kernelspec": {
   "display_name": "Python 3",
   "language": "python",
   "name": "python3"
  },
  "language_info": {
   "codemirror_mode": {
    "name": "ipython",
    "version": 3
   },
   "file_extension": ".py",
   "mimetype": "text/x-python",
   "name": "python",
   "nbconvert_exporter": "python",
   "pygments_lexer": "ipython3",
   "version": "3.8.3"
  },
  "latex_envs": {
   "LaTeX_envs_menu_present": true,
   "autoclose": false,
   "autocomplete": true,
   "bibliofile": "biblio.bib",
   "cite_by": "apalike",
   "current_citInitial": 1,
   "eqLabelWithNumbers": true,
   "eqNumInitial": 1,
   "hotkeys": {
    "equation": "Ctrl-E",
    "itemize": "Ctrl-I"
   },
   "labels_anchors": false,
   "latex_user_defs": false,
   "report_style_numbering": false,
   "user_envs_cfg": false
  },
  "toc": {
   "base_numbering": 1,
   "nav_menu": {},
   "number_sections": true,
   "sideBar": true,
   "skip_h1_title": false,
   "title_cell": "Table of Contents",
   "title_sidebar": "Contents",
   "toc_cell": false,
   "toc_position": {
    "height": "calc(100% - 180px)",
    "left": "10px",
    "top": "150px",
    "width": "404.653px"
   },
   "toc_section_display": true,
   "toc_window_display": true
  },
  "varInspector": {
   "cols": {
    "lenName": 16,
    "lenType": 16,
    "lenVar": 40
   },
   "kernels_config": {
    "python": {
     "delete_cmd_postfix": "",
     "delete_cmd_prefix": "del ",
     "library": "var_list.py",
     "varRefreshCmd": "print(var_dic_list())"
    },
    "r": {
     "delete_cmd_postfix": ") ",
     "delete_cmd_prefix": "rm(",
     "library": "var_list.r",
     "varRefreshCmd": "cat(var_dic_list()) "
    }
   },
   "types_to_exclude": [
    "module",
    "function",
    "builtin_function_or_method",
    "instance",
    "_Feature"
   ],
   "window_display": false
  }
 },
 "nbformat": 4,
 "nbformat_minor": 4
}
